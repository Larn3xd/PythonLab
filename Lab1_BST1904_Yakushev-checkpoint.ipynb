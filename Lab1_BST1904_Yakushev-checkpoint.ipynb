{
 "cells": [
  {
   "cell_type": "markdown",
   "metadata": {},
   "source": [
    "1. Задание"
   ]
  },
  {
   "cell_type": "code",
   "execution_count": 2,
   "metadata": {},
   "outputs": [
    {
     "name": "stdout",
     "output_type": "stream",
     "text": [
      "Hello, world!\n"
     ]
    }
   ],
   "source": [
    "print (\"Hello, world!\")"
   ]
  },
  {
   "cell_type": "markdown",
   "metadata": {},
   "source": [
    "2. Задание"
   ]
  },
  {
   "cell_type": "code",
   "execution_count": 1,
   "metadata": {},
   "outputs": [
    {
     "name": "stdout",
     "output_type": "stream",
     "text": [
      "Введите количество строк m5\n",
      "Введите число столбцов n6\n",
      "Введите минимальное число min_lim50\n",
      "Введите максимальное число max_lim100\n",
      "Ваш массив: \n",
      "[[66. 96. 78. 80. 61. 82.]\n",
      " [81. 74. 74. 88. 83. 58.]\n",
      " [58. 71. 78. 60. 96. 76.]\n",
      " [75. 82. 66. 95. 84. 90.]\n",
      " [79. 78. 55. 87. 68. 96.]]\n"
     ]
    }
   ],
   "source": [
    "import numpy as np\n",
    "import time\n",
    "import random\n",
    "try:\n",
    "    m = int(input(\"Введите количество строк m\"))\n",
    "except ValueError:\n",
    "    m = 50\n",
    "try:\n",
    "    n = int(input(\"Введите число столбцов n\"))\n",
    "except ValueError:\n",
    "    n = 50\n",
    "try:\n",
    "    min_lim = int(input(\"Введите минимальное число min_lim\"))\n",
    "except ValueError:\n",
    "    min_lim = -250\n",
    "try:\n",
    "    max_lim = int(input(\"Введите максимальное число max_lim\"))\n",
    "except ValueError:\n",
    "    max_lim = 1021\n",
    "A = np.empty((m, n))\n",
    "for i in range(m):\n",
    "    for j in range(n):\n",
    "        A[i, j] = random.randint(min_lim, max_lim)\n",
    "print(\"Ваш массив: \")\n",
    "print(A)"
   ]
  },
  {
   "cell_type": "markdown",
   "metadata": {},
   "source": [
    "3. Задание"
   ]
  },
  {
   "cell_type": "markdown",
   "metadata": {},
   "source": [
    "Выбором"
   ]
  },
  {
   "cell_type": "code",
   "execution_count": 2,
   "metadata": {},
   "outputs": [
    {
     "name": "stdout",
     "output_type": "stream",
     "text": [
      "[[55. 58. 58. 60. 61. 66.]\n",
      " [66. 68. 71. 74. 74. 75.]\n",
      " [76. 78. 78. 78. 79. 80.]\n",
      " [81. 82. 82. 83. 84. 87.]\n",
      " [88. 90. 95. 96. 96. 96.]]\n",
      "Wall time: 999 µs\n"
     ]
    }
   ],
   "source": [
    "%%time\n",
    "def SelectionSort(Arr):\n",
    "    for i in range(0, len(Arr) - 1):\n",
    "        for j in range(i + 1, len(Arr)):\n",
    "            if Arr[j] < Arr[i]:\n",
    "                Arr[i], Arr[j] = Arr[j], Arr[i]\n",
    "\n",
    "import numpy as np\n",
    "B = np.empty(m*n)\n",
    "C = np.empty((m, n))\n",
    "z = 0\n",
    "for x in range(m):\n",
    "    for y in range(n):\n",
    "        B[z] = A[x, y]\n",
    "        z = z + 1\n",
    "SelectionSort(B)\n",
    "z = 0\n",
    "for x in range(m):\n",
    "    for y in range(n):\n",
    "        C[x, y] = B[z]\n",
    "        z = z + 1\n",
    "print(C)"
   ]
  },
  {
   "cell_type": "markdown",
   "metadata": {},
   "source": [
    "Вставкой"
   ]
  },
  {
   "cell_type": "code",
   "execution_count": 3,
   "metadata": {},
   "outputs": [
    {
     "name": "stdout",
     "output_type": "stream",
     "text": [
      "Введите список чисел: 2 5 7 6\n",
      "Отсортированный список: [2, 5, 6, 7]\n"
     ]
    }
   ],
   "source": [
    "def insertion_sort(Arr):\n",
    "    for i in range(1, len(Arr)):\n",
    "        temp = Arr[i]\n",
    "        j = i - 1\n",
    "        while (j >= 0 and temp < Arr[j]):\n",
    "            Arr[j + 1] = Arr[j]\n",
    "            j = j - 1\n",
    "        Arr[j + 1] = temp\n",
    " \n",
    " \n",
    "Arr = input('Введите список чисел: ').split()\n",
    "Arr = [int(x) for x in Arr]\n",
    "insertion_sort(Arr)\n",
    "print('Отсортированный список: ', end='')\n",
    "print(Arr)"
   ]
  },
  {
   "cell_type": "markdown",
   "metadata": {},
   "source": [
    "Обменом"
   ]
  },
  {
   "cell_type": "code",
   "execution_count": 4,
   "metadata": {},
   "outputs": [
    {
     "name": "stdout",
     "output_type": "stream",
     "text": [
      "[[55. 58. 58. 60. 61. 66.]\n",
      " [66. 68. 71. 74. 74. 75.]\n",
      " [76. 78. 78. 78. 79. 80.]\n",
      " [81. 82. 82. 83. 84. 87.]\n",
      " [88. 90. 95. 96. 96. 96.]]\n",
      "Wall time: 1e+03 µs\n"
     ]
    }
   ],
   "source": [
    "%%time\n",
    "def Bubble(A):\n",
    "    for j in range(len(A) - 1, 0, -1):\n",
    "        for i in range(0, j):\n",
    "            if A[i] > A[i + 1]:\n",
    "                A[i], A[i + 1] = A[i + 1], A[i]\n",
    "\n",
    "import numpy as np\n",
    "B = np.empty(m*n)\n",
    "C = np.empty((m, n))\n",
    "z = 0\n",
    "for x in range(m):\n",
    "    for y in range(n):\n",
    "        B[z] = A[x, y]\n",
    "        z = z + 1\n",
    "Bubble(B)\n",
    "z = 0\n",
    "for x in range(m):\n",
    "     for y in range(n):\n",
    "        C[x, y] = B[z]\n",
    "        z = z + 1\n",
    "print(C)        "
   ]
  },
  {
   "cell_type": "markdown",
   "metadata": {},
   "source": [
    "Шелла"
   ]
  },
  {
   "cell_type": "code",
   "execution_count": 6,
   "metadata": {},
   "outputs": [
    {
     "name": "stdout",
     "output_type": "stream",
     "text": [
      "[[55. 58. 58. 60. 61. 66.]\n",
      " [66. 68. 71. 74. 74. 75.]\n",
      " [76. 78. 78. 78. 79. 80.]\n",
      " [81. 82. 82. 83. 84. 87.]\n",
      " [88. 90. 95. 96. 96. 96.]]\n",
      "Wall time: 1 ms\n"
     ]
    }
   ],
   "source": [
    "%%time\n",
    "def shell(Arr):\n",
    "    step = len(Arr) // 2\n",
    "    while step:\n",
    "        for i, el in enumerate(Arr):\n",
    "            while i >= step and Arr[i - step] > el:\n",
    "                Arr[i] = Arr[i - step]\n",
    "                i -= step\n",
    "            Arr[i] = el\n",
    "        step = 1 if step == 2 else int(step * 5.0 / 11)\n",
    "        \n",
    "import numpy as np\n",
    "B = np.empty(m*n)\n",
    "C = np.empty((m, n))\n",
    "z = 0\n",
    "for x in range(m):\n",
    "    for y in range(n):\n",
    "        B[z] = A[x, y]\n",
    "        z = z + 1\n",
    "shell(B)\n",
    "z = 0\n",
    "for x in range(m):\n",
    "    for y in range(n):\n",
    "        C[x, y] = B[z]\n",
    "        z = z + 1\n",
    "print(C)"
   ]
  },
  {
   "cell_type": "markdown",
   "metadata": {},
   "source": [
    "Пирамидальная сортировка"
   ]
  },
  {
   "cell_type": "code",
   "execution_count": 3,
   "metadata": {},
   "outputs": [
    {
     "name": "stdout",
     "output_type": "stream",
     "text": [
      "Enter the list of numbers: 1 5 3 54\n",
      "Sorted list: [1, 3, 5, 54]\n"
     ]
    }
   ],
   "source": [
    "def heapsort(Arr):\n",
    "    build_max_heap(Arr)\n",
    "    for i in range(len(Arr) - 1, 0, -1):\n",
    "        Arr[0], Arr[i] = Arr[i], Arr[0]\n",
    "        max_heapify(Arr, index=0, size=i)\n",
    "        \n",
    "def parent(i):\n",
    "    return (i - 1)//2\n",
    " \n",
    "def left(i):\n",
    "    return 2*i + 1\n",
    " \n",
    "def right(i):\n",
    "    return 2*i + 2\n",
    " \n",
    "def build_max_heap(Arr):\n",
    "    length = len(Arr)\n",
    "    start = parent(length - 1)\n",
    "    while start >= 0:\n",
    "        max_heapify(Arr, index=start, size=length)\n",
    "        start = start - 1\n",
    "        \n",
    "def max_heapify(Arr, index, size):\n",
    "    l = left(index)\n",
    "    r = right(index)\n",
    "    if (l < size and Arr[l] > Arr[index]):\n",
    "        largest = l\n",
    "    else:\n",
    "        largest = index\n",
    "    if (r < size and Arr[r] > Arr[largest]):\n",
    "        largest = r\n",
    "    if (largest != index):\n",
    "        Arr[largest], Arr[index] = Arr[index], Arr[largest]\n",
    "        max_heapify(Arr, largest, size)\n",
    " \n",
    " \n",
    "Arr = input('Введите список чисел: ').split()\n",
    "Arr = [int(x) for x in Arr]\n",
    "heapsort(Arr)\n",
    "print('Отсортированный список: ', end='')\n",
    "print(Arr)"
   ]
  },
  {
   "cell_type": "markdown",
   "metadata": {},
   "source": [
    "Быстрая сортировка"
   ]
  },
  {
   "cell_type": "code",
   "execution_count": 5,
   "metadata": {},
   "outputs": [
    {
     "name": "stdout",
     "output_type": "stream",
     "text": [
      "Введите список чисел: 3 4 5 7 8\n",
      "Отсортированный список: [3, 4, 5, 7, 8]\n"
     ]
    }
   ],
   "source": [
    "def quick(Arr, start, end):\n",
    "    if end - start > 1:\n",
    "        p = partition(Arr, start, end)\n",
    "        quick(Arr, start, p)\n",
    "        quick(Arr, p + 1, end)\n",
    " \n",
    " \n",
    "def partition(Arr, start, end):\n",
    "    pivot = Arr[start]\n",
    "    i = start + 1\n",
    "    j = end - 1\n",
    " \n",
    "    while True:\n",
    "        while (i <= j and Arr[i] <= pivot):\n",
    "            i = i + 1\n",
    "        while (i <= j and Arr[j] >= pivot):\n",
    "            j = j - 1\n",
    " \n",
    "        if i <= j:\n",
    "            Arr[i], Arr[j] = Arr[j], Arr[i]\n",
    "        else:\n",
    "            Arr[start], Arr[j] = Arr[j], Arr[start]\n",
    "            return j\n",
    " \n",
    " \n",
    "Arr = input('Введите список чисел: ').split()\n",
    "Arr = [int(x) for x in Arr]\n",
    "quick(Arr, 0, len(Arr))\n",
    "print('Отсортированный список: ', end='')\n",
    "print(Arr)"
   ]
  },
  {
   "cell_type": "markdown",
   "metadata": {},
   "source": [
    "Задача №1"
   ]
  },
  {
   "cell_type": "code",
   "execution_count": 8,
   "metadata": {},
   "outputs": [
    {
     "name": "stdout",
     "output_type": "stream",
     "text": [
      "Введите длину массива от 3 до 100005\n",
      "[4. 2. 2. 1. 7.]\n",
      "Максимально возможный периметр равен: 8.0\n"
     ]
    }
   ],
   "source": [
    "import time\n",
    "import random\n",
    "\n",
    "def checkFun(a, b, c):\n",
    "    if a + b > c and a + c > b and b + c > 2:\n",
    "        return 1\n",
    "    else:\n",
    "        return 0\n",
    "def perimeter(a, b, c):\n",
    "    return a + b + c\n",
    "\n",
    "import numpy as np\n",
    "N = int(input(\"Введите длину массива от 3 до 10000\"))\n",
    "if N < 3 or N > 10000:\n",
    "    print(\"Число должно быть от 3 до 10000\")\n",
    "    N = int(input(\"Введите длину массива от 3 до 10000\"))\n",
    "A = np.empty(N)\n",
    "for i in range(N):\n",
    "        A[i] = random.randint(1, 10)\n",
    "print(A)\n",
    "perimeter_max = 0\n",
    "for i in range(N - 2):\n",
    "    for j in range(i + 1, N - 1):\n",
    "        for z in range(j + 1, N):\n",
    "            if checkFun(A[i], A[j], A[z]) == 1:\n",
    "                if perimeter(A[i], A[j], A[z]) > perimeter_max:\n",
    "                    perimeter_max = perimeter(A[i], A[j], A[z])\n",
    "print(\"Максимально возможный периметр равен: \" + str(perimeter_max))               "
   ]
  },
  {
   "cell_type": "markdown",
   "metadata": {},
   "source": [
    "Задача №3"
   ]
  },
  {
   "cell_type": "code",
   "execution_count": 23,
   "metadata": {},
   "outputs": [
    {
     "name": "stdout",
     "output_type": "stream",
     "text": [
      "Введите количество строк m4\n",
      "Введите число столбцов n5\n",
      "[[ 5. 15.  9.  8.  9.]\n",
      " [19. 19.  1. 17. 13.]\n",
      " [13. 20. 18. 15. 13.]\n",
      " [15. 15. 17. 13. 13.]]\n",
      " \n",
      "[[ 5. 15.  9.  8.  9.]\n",
      " [17. 13.  1. 17. 13.]\n",
      " [13. 19. 18. 15. 13.]\n",
      " [15. 15. 20. 19. 13.]]\n"
     ]
    }
   ],
   "source": [
    "import time\n",
    "import random\n",
    "def Bubble(A):\n",
    "    for j in range(len(A) - 1, 0, -1):\n",
    "        for i in range (0, j):\n",
    "            if A[i] > A[i + 1]:\n",
    "                A[i], A[i + 1] = A[i + 1], A[i]\n",
    "\n",
    "import numpy as np\n",
    "m = int(input(\"Введите количество строк m\"))\n",
    "if m < 2 or m > 100:\n",
    "    print(\"Число должно быть от 2 до 100\")\n",
    "n = int(input(\"Введите число столбцов n\"))\n",
    "if n < 2 or n > 100:\n",
    "    print(\"Число должно быть от 2 до 100\")\n",
    "A = np.empty((m, n))\n",
    "for i in range(m):\n",
    "    for j in range(n):\n",
    "        A[i, j] = random.randint(1, 20)\n",
    "print(A)\n",
    "print(\" \")\n",
    "B = np.empty(n)\n",
    "for i in range(-(m-2), 1):\n",
    "    np.resize(B, len(np.diag(A, k = i)))\n",
    "    B = np.diagonal(A, offset = i).copy()\n",
    "    Bubble(B)\n",
    "    np.fill_diagonal(A[-i:], B)\n",
    "print(A)"
   ]
  },
  {
   "cell_type": "code",
   "execution_count": null,
   "metadata": {},
   "outputs": [],
   "source": []
  }
 ],
 "metadata": {
  "kernelspec": {
   "display_name": "Python 3",
   "language": "python",
   "name": "python3"
  },
  "language_info": {
   "codemirror_mode": {
    "name": "ipython",
    "version": 3
   },
   "file_extension": ".py",
   "mimetype": "text/x-python",
   "name": "python",
   "nbconvert_exporter": "python",
   "pygments_lexer": "ipython3",
   "version": "3.8.5"
  }
 },
 "nbformat": 4,
 "nbformat_minor": 4
}
