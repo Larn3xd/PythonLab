{
 "cells": [
  {
   "cell_type": "markdown",
   "metadata": {},
   "source": [
    "БСТ-1904 Якушев Кирилл, вариант 21"
   ]
  },
  {
   "cell_type": "markdown",
   "metadata": {},
   "source": [
    "№1. Задание"
   ]
  },
  {
   "cell_type": "code",
   "execution_count": 2,
   "metadata": {},
   "outputs": [
    {
     "name": "stdout",
     "output_type": "stream",
     "text": [
      "Hello, world!\n"
     ]
    }
   ],
   "source": [
    "print (\"Hello, world!\")"
   ]
  },
  {
   "cell_type": "markdown",
   "metadata": {},
   "source": [
    "№2. Задание"
   ]
  },
  {
   "cell_type": "code",
   "execution_count": 1,
   "metadata": {},
   "outputs": [
    {
     "name": "stdin",
     "output_type": "stream",
     "text": [
      "Введите количество строк m 3\n",
      "Введите число столбцов n 5\n",
      "Введите минимальное число min_lim -1\n",
      "Введите максимальное число max_lim 8\n"
     ]
    },
    {
     "name": "stdout",
     "output_type": "stream",
     "text": [
      "Ваш массив: \n",
      "[[ 5.  6.  0.  0.  7.]\n",
      " [ 2.  6.  5.  3.  8.]\n",
      " [ 8.  5.  1. -1.  7.]]\n"
     ]
    }
   ],
   "source": [
    "import numpy as np\n",
    "import time\n",
    "import random\n",
    "try:\n",
    "    m = int(input(\"Введите количество строк m\"))\n",
    "except ValueError:\n",
    "    m = 50\n",
    "try:\n",
    "    n = int(input(\"Введите число столбцов n\"))\n",
    "except ValueError:\n",
    "    n = 50\n",
    "try:\n",
    "    min_lim = int(input(\"Введите минимальное число min_lim\"))\n",
    "except ValueError:\n",
    "    min_lim = -250\n",
    "try:\n",
    "    max_lim = int(input(\"Введите максимальное число max_lim\"))\n",
    "except ValueError:\n",
    "    max_lim = 1021\n",
    "A = np.empty((m, n))\n",
    "for i in range(m):\n",
    "    for j in range(n):\n",
    "        A[i, j] = random.randint(min_lim, max_lim)\n",
    "print(\"Ваш массив: \")\n",
    "print(A)"
   ]
  },
  {
   "cell_type": "markdown",
   "metadata": {},
   "source": [
    "№3. Задание"
   ]
  },
  {
   "cell_type": "markdown",
   "metadata": {},
   "source": [
    "Выбором"
   ]
  },
  {
   "cell_type": "code",
   "execution_count": 3,
   "metadata": {},
   "outputs": [
    {
     "name": "stdout",
     "output_type": "stream",
     "text": [
      "[[ 7. -1.  1.  5.  8.]\n",
      " [ 8.  3.  5.  6.  2.]\n",
      " [ 7.  0.  0.  6.  5.]]\n",
      "Wall time: 0 ns\n"
     ]
    }
   ],
   "source": [
    "%%time\n",
    "def SelectionSort(Arr):\n",
    "    for i in range(len(Arr) - 1):\n",
    "        m = i\n",
    "        j = i + 1\n",
    "        while j < len(Arr):\n",
    "            m = j\n",
    "            j = j + 1\n",
    "            Arr[i], Arr[m] = Arr[m], Arr[i]\n",
    "\n",
    "\n",
    "import numpy as np\n",
    "B = np.empty(m*n)\n",
    "C = np.empty((m, n))\n",
    "z = 0\n",
    "for x in range(m):\n",
    "    for y in range(n):\n",
    "        B[z] = A[x, y]\n",
    "        z = z + 1\n",
    "SelectionSort(B)\n",
    "z = 0\n",
    "for x in range(m):\n",
    "    for y in range(n):\n",
    "        C[x, y] = B[z]\n",
    "        z = z + 1\n",
    "print(C)"
   ]
  },
  {
   "cell_type": "markdown",
   "metadata": {},
   "source": [
    "Вставкой"
   ]
  },
  {
   "cell_type": "code",
   "execution_count": 13,
   "metadata": {},
   "outputs": [
    {
     "name": "stdout",
     "output_type": "stream",
     "text": [
      "[[ 1.  2.  4.  6. 11.]\n",
      " [16. 19. 20. 21. 27.]\n",
      " [30. 30. 35. 36. 37.]\n",
      " [37. 39. 39. 39. 41.]\n",
      " [42. 43. 47. 49. 50.]]\n"
     ]
    }
   ],
   "source": [
    "def insertion_sort(Arr):\n",
    "    for i in range(1, len(Arr)):\n",
    "        temp = Arr[i]\n",
    "        j = i - 1\n",
    "        while (j >= 0 and temp < Arr[j]):\n",
    "            Arr[j + 1] = Arr[j]\n",
    "            j = j - 1\n",
    "        Arr[j + 1] = temp\n",
    " \n",
    " \n",
    "import numpy as np\n",
    "B = np.empty(m*n)\n",
    "C = np.empty((m, n))\n",
    "z = 0\n",
    "for x in range(m):\n",
    "    for y in range(n):\n",
    "        B[z] = A[x, y]\n",
    "        z = z + 1\n",
    "SelectionSort(B)\n",
    "z = 0\n",
    "for x in range(m):\n",
    "    for y in range(n):\n",
    "        C[x, y] = B[z]\n",
    "        z = z + 1\n",
    "print(C)"
   ]
  },
  {
   "cell_type": "markdown",
   "metadata": {},
   "source": [
    "Обменом"
   ]
  },
  {
   "cell_type": "code",
   "execution_count": 14,
   "metadata": {},
   "outputs": [
    {
     "name": "stdout",
     "output_type": "stream",
     "text": [
      "[[ 1.  2.  4.  6. 11.]\n",
      " [16. 19. 20. 21. 27.]\n",
      " [30. 30. 35. 36. 37.]\n",
      " [37. 39. 39. 39. 41.]\n",
      " [42. 43. 47. 49. 50.]]\n",
      "Wall time: 1e+03 µs\n"
     ]
    }
   ],
   "source": [
    "%%time\n",
    "def Bubble(A):\n",
    "    for j in range(len(A) - 1, 0, -1):\n",
    "        for i in range(0, j):\n",
    "            if A[i] > A[i + 1]:\n",
    "                A[i], A[i + 1] = A[i + 1], A[i]\n",
    "\n",
    "import numpy as np\n",
    "B = np.empty(m*n)\n",
    "C = np.empty((m, n))\n",
    "z = 0\n",
    "for x in range(m):\n",
    "    for y in range(n):\n",
    "        B[z] = A[x, y]\n",
    "        z = z + 1\n",
    "Bubble(B)\n",
    "z = 0\n",
    "for x in range(m):\n",
    "     for y in range(n):\n",
    "        C[x, y] = B[z]\n",
    "        z = z + 1\n",
    "print(C)        "
   ]
  },
  {
   "cell_type": "markdown",
   "metadata": {},
   "source": [
    "Шелла"
   ]
  },
  {
   "cell_type": "code",
   "execution_count": 15,
   "metadata": {},
   "outputs": [
    {
     "name": "stdout",
     "output_type": "stream",
     "text": [
      "[[ 1.  2.  4.  6. 11.]\n",
      " [16. 19. 20. 21. 27.]\n",
      " [30. 30. 35. 36. 37.]\n",
      " [37. 39. 39. 39. 41.]\n",
      " [42. 43. 47. 49. 50.]]\n",
      "Wall time: 999 µs\n"
     ]
    }
   ],
   "source": [
    "%%time\n",
    "def shell(Arr):\n",
    "    step = len(Arr) // 2\n",
    "    while step:\n",
    "        for i, el in enumerate(Arr):\n",
    "            while i >= step and Arr[i - step] > el:\n",
    "                Arr[i] = Arr[i - step]\n",
    "                i -= step\n",
    "            Arr[i] = el\n",
    "        step = 1 if step == 2 else int(step * 5.0 / 11)\n",
    "        \n",
    "import numpy as np\n",
    "B = np.empty(m*n)\n",
    "C = np.empty((m, n))\n",
    "z = 0\n",
    "for x in range(m):\n",
    "    for y in range(n):\n",
    "        B[z] = A[x, y]\n",
    "        z = z + 1\n",
    "shell(B)\n",
    "z = 0\n",
    "for x in range(m):\n",
    "    for y in range(n):\n",
    "        C[x, y] = B[z]\n",
    "        z = z + 1\n",
    "print(C)"
   ]
  },
  {
   "cell_type": "markdown",
   "metadata": {},
   "source": [
    "Пирамидальная сортировка"
   ]
  },
  {
   "cell_type": "code",
   "execution_count": 16,
   "metadata": {},
   "outputs": [
    {
     "name": "stdout",
     "output_type": "stream",
     "text": [
      "[[ 1.  2.  4.  6. 11.]\n",
      " [16. 19. 20. 21. 27.]\n",
      " [30. 30. 35. 36. 37.]\n",
      " [37. 39. 39. 39. 41.]\n",
      " [42. 43. 47. 49. 50.]]\n"
     ]
    }
   ],
   "source": [
    "def heapsort(Arr):\n",
    "    build_max_heap(Arr)\n",
    "    for i in range(len(Arr) - 1, 0, -1):\n",
    "        Arr[0], Arr[i] = Arr[i], Arr[0]\n",
    "        max_heapify(Arr, index=0, size=i)\n",
    "        \n",
    "def parent(i):\n",
    "    return (i - 1)//2\n",
    " \n",
    "def left(i):\n",
    "    return 2*i + 1\n",
    " \n",
    "def right(i):\n",
    "    return 2*i + 2\n",
    " \n",
    "def build_max_heap(Arr):\n",
    "    length = len(Arr)\n",
    "    start = parent(length - 1)\n",
    "    while start >= 0:\n",
    "        max_heapify(Arr, index=start, size=length)\n",
    "        start = start - 1\n",
    "        \n",
    "def max_heapify(Arr, index, size):\n",
    "    l = left(index)\n",
    "    r = right(index)\n",
    "    if (l < size and Arr[l] > Arr[index]):\n",
    "        largest = l\n",
    "    else:\n",
    "        largest = index\n",
    "    if (r < size and Arr[r] > Arr[largest]):\n",
    "        largest = r\n",
    "    if (largest != index):\n",
    "        Arr[largest], Arr[index] = Arr[index], Arr[largest]\n",
    "        max_heapify(Arr, largest, size)\n",
    " \n",
    " \n",
    "import numpy as np\n",
    "B = np.empty(m*n)\n",
    "C = np.empty((m, n))\n",
    "z = 0\n",
    "for x in range(m):\n",
    "    for y in range(n):\n",
    "        B[z] = A[x, y]\n",
    "        z = z + 1\n",
    "heapsort(B)\n",
    "z = 0\n",
    "for x in range(m):\n",
    "    for y in range(n):\n",
    "        C[x, y] = B[z]\n",
    "        z = z + 1\n",
    "print(C)"
   ]
  },
  {
   "cell_type": "markdown",
   "metadata": {},
   "source": [
    "Быстрая сортировка"
   ]
  },
  {
   "cell_type": "code",
   "execution_count": 17,
   "metadata": {
    "scrolled": true
   },
   "outputs": [
    {
     "name": "stdout",
     "output_type": "stream",
     "text": [
      "[[ 1. 11. 16. 30. 42.]\n",
      " [50. 37. 27. 49.  6.]\n",
      " [37. 19. 20. 43. 30.]\n",
      " [35.  4. 39. 36. 21.]\n",
      " [41. 47. 39.  2. 39.]]\n"
     ]
    }
   ],
   "source": [
    "def quick(Arr, start, end):\n",
    "    if end - start > 1:\n",
    "        p = partition(Arr, start, end)\n",
    "        quick(Arr, start, p)\n",
    "        quick(Arr, p + 1, end)\n",
    " \n",
    " \n",
    "def partition(Arr, start, end):\n",
    "    pivot = Arr[start]\n",
    "    i = start + 1\n",
    "    j = end - 1\n",
    " \n",
    "    while True:\n",
    "        while (i <= j and Arr[i] <= pivot):\n",
    "            i = i + 1\n",
    "        while (i <= j and Arr[j] >= pivot):\n",
    "            j = j - 1\n",
    " \n",
    "        if i <= j:\n",
    "            Arr[i], Arr[j] = Arr[j], Arr[i]\n",
    "        else:\n",
    "            Arr[start], Arr[j] = Arr[j], Arr[start]\n",
    "            return j\n",
    " \n",
    " \n",
    "import numpy as np\n",
    "B = np.empty(m*n)\n",
    "C = np.empty((m, n))\n",
    "z = 0\n",
    "for x in range(m):\n",
    "    for y in range(n):\n",
    "        B[z] = A[x, y]\n",
    "        z = z + 1        \n",
    "quick(B, 0, len(A))\n",
    "z = 0\n",
    "for x in range(m):\n",
    "    for y in range(n):\n",
    "        C[x, y] = B[z]\n",
    "        z = z + 1\n",
    "print(C)"
   ]
  },
  {
   "cell_type": "code",
   "execution_count": null,
   "metadata": {},
   "outputs": [],
   "source": [
    "Турнирная сортировка"
   ]
  },
  {
   "cell_type": "code",
   "execution_count": 8,
   "metadata": {},
   "outputs": [
    {
     "name": "stdin",
     "output_type": "stream",
     "text": [
      " 8 9 4 6 5\n"
     ]
    },
    {
     "name": "stdout",
     "output_type": "stream",
     "text": [
      "[4, 5, 6, 8, 9]\n"
     ]
    }
   ],
   "source": [
    "def TournamentSort(array):\n",
    "    Arr= array.copy()\n",
    "    for i in range(len(Arr)):\n",
    "        tournamentSort(Arr[i])\n",
    "    return Arr\n",
    "def tournamentSort(Arr):\n",
    "    tree = [None] * 2 * (len(Arr) + len(Arr) % 2)\n",
    "    index = len(tree) - len(Arr) - len(Arr) % 2\n",
    "    \n",
    "    for i, v in enumerate(Arr):\n",
    "        tree[index + i] = (i, v)\n",
    "    \n",
    "    for j in range(len(Arr)):\n",
    "        n = len(Arr)\n",
    "        index = len(tree) - len(Arr) - len(Arr) % 2\n",
    "        while index > -1:\n",
    "            n = (n + 1) // 2\n",
    "            for i in range(n):\n",
    "                i = max(index + i * 2, 1) \n",
    "                if tree[i] != None and tree[i + 1] != None:\n",
    "                    if tree[i][1] < tree[i + 1][1]:\n",
    "                        tree[i // 2] = tree[i]\n",
    "                    else:\n",
    "                        tree[i // 2] = tree[i + 1]\n",
    "                else:\n",
    "                    tree[i // 2] = tree[i] if tree[i] != None else tree[i + 1]\n",
    "            index -= n\n",
    "\n",
    "        index, x = tree[0]\n",
    "        Arr[j] = x\n",
    "        tree[len(tree) - len(Arr) - len(Arr) % 2 + index] = None\n",
    "        \n",
    "Arr = input().split()\n",
    "Arr = [int(x) for x in Arr]\n",
    "tournamentSort(Arr)\n",
    "print(Arr)"
   ]
  },
  {
   "cell_type": "markdown",
   "metadata": {},
   "source": [
    "Задача №1"
   ]
  },
  {
   "cell_type": "code",
   "execution_count": 8,
   "metadata": {},
   "outputs": [
    {
     "name": "stdout",
     "output_type": "stream",
     "text": [
      "Введите длину массива от 3 до 100005\n",
      "[4. 2. 2. 1. 7.]\n",
      "Максимально возможный периметр равен: 8.0\n"
     ]
    }
   ],
   "source": [
    "import time\n",
    "import random\n",
    "\n",
    "def checkFun(a, b, c):\n",
    "    if a + b > c and a + c > b and b + c > 2:\n",
    "        return 1\n",
    "    else:\n",
    "        return 0\n",
    "def perimeter(a, b, c):\n",
    "    return a + b + c\n",
    "\n",
    "import numpy as np\n",
    "N = int(input(\"Введите длину массива от 3 до 10000\"))\n",
    "if N < 3 or N > 10000:\n",
    "    print(\"Число должно быть от 3 до 10000\")\n",
    "    N = int(input(\"Введите длину массива от 3 до 10000\"))\n",
    "A = np.empty(N)\n",
    "for i in range(N):\n",
    "        A[i] = random.randint(1, 10)\n",
    "print(A)\n",
    "perimeter_max = 0\n",
    "for i in range(N - 2):\n",
    "    for j in range(i + 1, N - 1):\n",
    "        for z in range(j + 1, N):\n",
    "            if checkFun(A[i], A[j], A[z]) == 1:\n",
    "                if perimeter(A[i], A[j], A[z]) > perimeter_max:\n",
    "                    perimeter_max = perimeter(A[i], A[j], A[z])\n",
    "print(\"Максимально возможный периметр равен: \" + str(perimeter_max))               "
   ]
  },
  {
   "cell_type": "markdown",
   "metadata": {},
   "source": [
    "Задача №3"
   ]
  },
  {
   "cell_type": "code",
   "execution_count": 23,
   "metadata": {},
   "outputs": [
    {
     "name": "stdout",
     "output_type": "stream",
     "text": [
      "Введите количество строк m4\n",
      "Введите число столбцов n5\n",
      "[[ 5. 15.  9.  8.  9.]\n",
      " [19. 19.  1. 17. 13.]\n",
      " [13. 20. 18. 15. 13.]\n",
      " [15. 15. 17. 13. 13.]]\n",
      " \n",
      "[[ 5. 15.  9.  8.  9.]\n",
      " [17. 13.  1. 17. 13.]\n",
      " [13. 19. 18. 15. 13.]\n",
      " [15. 15. 20. 19. 13.]]\n"
     ]
    }
   ],
   "source": [
    "import time\n",
    "import random\n",
    "def Bubble(A):\n",
    "    for j in range(len(A) - 1, 0, -1):\n",
    "        for i in range (0, j):\n",
    "            if A[i] > A[i + 1]:\n",
    "                A[i], A[i + 1] = A[i + 1], A[i]\n",
    "\n",
    "import numpy as np\n",
    "m = int(input(\"Введите количество строк m\"))\n",
    "if m < 2 or m > 100:\n",
    "    print(\"Число должно быть от 2 до 100\")\n",
    "n = int(input(\"Введите число столбцов n\"))\n",
    "if n < 2 or n > 100:\n",
    "    print(\"Число должно быть от 2 до 100\")\n",
    "A = np.empty((m, n))\n",
    "for i in range(m):\n",
    "    for j in range(n):\n",
    "        A[i, j] = random.randint(1, 20)\n",
    "print(A)\n",
    "print(\" \")\n",
    "B = np.empty(n)\n",
    "for i in range(-(m-2), 1):\n",
    "    np.resize(B, len(np.diag(A, k = i)))\n",
    "    B = np.diagonal(A, offset = i).copy()\n",
    "    Bubble(B)\n",
    "    np.fill_diagonal(A[-i:], B)\n",
    "print(A)"
   ]
  },
  {
   "cell_type": "code",
   "execution_count": null,
   "metadata": {},
   "outputs": [],
   "source": []
  }
 ],
 "metadata": {
  "kernelspec": {
   "display_name": "Python 3",
   "language": "python",
   "name": "python3"
  },
  "language_info": {
   "codemirror_mode": {
    "name": "ipython",
    "version": 3
   },
   "file_extension": ".py",
   "mimetype": "text/x-python",
   "name": "python",
   "nbconvert_exporter": "python",
   "pygments_lexer": "ipython3",
   "version": "3.8.5"
  }
 },
 "nbformat": 4,
 "nbformat_minor": 4
}
