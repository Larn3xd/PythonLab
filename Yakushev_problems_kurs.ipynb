{
 "cells": [
  {
   "cell_type": "markdown",
   "metadata": {},
   "source": [
    "# Задача №1. «Треугольник с максимальным периметром»"
   ]
  },
  {
   "cell_type": "markdown",
   "metadata": {},
   "source": [
    "Массив A состоит из целых положительных чисел - длин отрезков. Составьте из трех отрезков такой треугольник, чтобы его периметр был максимально возможным. Если невозможно составить треугольник с положительной площадью - функция возвращает 0."
   ]
  },
  {
   "cell_type": "code",
   "execution_count": 1,
   "metadata": {},
   "outputs": [
    {
     "name": "stdout",
     "output_type": "stream",
     "text": [
      "[1, 2, 2] --> 5\n",
      "[1, 2, 1] --> 0\n",
      "[3, 2, 3, 4] --> 10\n",
      "[3, 6, 2, 3] --> 8\n"
     ]
    }
   ],
   "source": [
    "def maxPerimetr(arr):\n",
    "    arr = sorted(arr, reverse=True)\n",
    "    n = len(arr)\n",
    "    for i in range(n - 2):\n",
    "        if arr[i] < arr[i + 1] + arr[i + 2]:\n",
    "            return arr[i] + arr[i + 1] + arr[i + 2]\n",
    "    return 0\n",
    "\n",
    "arr = [1, 2, 2]\n",
    "print(arr,\"-->\", maxPerimetr(arr))\n",
    "arr = [1, 2, 1]\n",
    "print(arr,\"-->\", maxPerimetr(arr))\n",
    "arr = [3, 2, 3, 4]\n",
    "print(arr,\"-->\", maxPerimetr(arr))\n",
    "arr = [3, 6, 2, 3]\n",
    "print(arr,\"-->\", maxPerimetr(arr))"
   ]
  },
  {
   "cell_type": "markdown",
   "metadata": {},
   "source": [
    "# Задача №2 «Максимальное число»"
   ]
  },
  {
   "cell_type": "markdown",
   "metadata": {},
   "source": [
    "Дан массив неотрицательных целых чисел nums. Расположите их в таком порядке, чтобы вместе они образовали максимально возможное число.\n",
    "Замечание: Результат может быть очень большим числом, поэтому представьте его как string, а не integer."
   ]
  },
  {
   "cell_type": "code",
   "execution_count": 2,
   "metadata": {},
   "outputs": [
    {
     "name": "stdout",
     "output_type": "stream",
     "text": [
      "[10, 2] --> 102\n",
      "[3, 30, 34, 5, 9] --> 3033459\n",
      "[1] --> 1\n",
      "[10] --> 10\n"
     ]
    }
   ],
   "source": [
    "def maxNum(nums):\n",
    "    nums.sort(key=lambda n: n % 10)\n",
    "    \n",
    "    res = ''.join(str(e) for e in nums)\n",
    "    return res\n",
    "\n",
    "print(\"[10, 2] -->\", maxNum([10, 2]))\n",
    "print(\"[3, 30, 34, 5, 9] -->\", maxNum([3, 30, 34, 5, 9]))\n",
    "print(\"[1] -->\", maxNum([1]))\n",
    "print(\"[10] -->\", maxNum([10]))"
   ]
  },
  {
   "cell_type": "markdown",
   "metadata": {},
   "source": [
    "# Задача №3 "
   ]
  },
  {
   "cell_type": "markdown",
   "metadata": {},
   "source": [
    "Дана строка s, вернуть самую длинную полиндромную подстроку в s."
   ]
  },
  {
   "cell_type": "code",
   "execution_count": 4,
   "metadata": {},
   "outputs": [
    {
     "name": "stdout",
     "output_type": "stream",
     "text": [
      "2x2\n"
     ]
    }
   ],
   "source": [
    "def Palindromes(s):\n",
    "    s_rev = s[::-1]\n",
    "    return s_rev == s\n",
    "def LongestPalidrome(s):\n",
    "    max_len = 1\n",
    "    max_pal = s[0]\n",
    "    for i in range(len(s) - 1):\n",
    "        for j in range (i + 1, len(s)):\n",
    "            if Palindromes(s[i:j]) and len(s[i:j]) > max_len:\n",
    "                max_len = len(s[i:j])\n",
    "                max_pal = s[i:j]\n",
    "    return max_pal\n",
    "\n",
    "s = \"abb2x2xr\"\n",
    "print(LongestPalidrome(s))"
   ]
  },
  {
   "cell_type": "markdown",
   "metadata": {},
   "source": [
    "# Задача №4"
   ]
  },
  {
   "cell_type": "markdown",
   "metadata": {},
   "source": [
    "Дана матрица mat размером m * n, значения - целочисленные. Напишите функцию, сортирующую каждую диагональ матрицы по возрастанию и возвращающую получившуюся матрицу."
   ]
  },
  {
   "cell_type": "code",
   "execution_count": 4,
   "metadata": {},
   "outputs": [
    {
     "name": "stdout",
     "output_type": "stream",
     "text": [
      "Введите количество строк5\n",
      "Введите количество столбцов5\n",
      "[[42. 33. 24. 84.  7.]\n",
      " [66. 81. 39. 57. 63.]\n",
      " [77. 56. 44. 85. 41.]\n",
      " [14. 13. 96. 72. 49.]\n",
      " [94. 95. 29. 21. 28.]]\n",
      " \n",
      "[[28. 33. 24. 63.  7.]\n",
      " [21. 42. 39. 41. 84.]\n",
      " [13. 56. 44. 49. 57.]\n",
      " [14. 29. 66. 72. 85.]\n",
      " [94. 95. 77. 96. 81.]]\n"
     ]
    }
   ],
   "source": [
    "import time\n",
    "import random\n",
    "import numpy as np\n",
    "def BubbleSort(A):\n",
    "    for j in range(len(A) - 1, 0, -1):\n",
    "        for i in range(0, j):\n",
    "            if A[i] > A[i + 1]:\n",
    "                A[i], A[i + 1] = A[i + 1], A[i]                \n",
    "\n",
    "m = int(input(\"Введите количество строк\"))\n",
    "if m < 1 or m > 100:\n",
    "    print(\"Число должно быть от 1 до 100\")\n",
    "    m = int(input(\"Введите количество строк\"))\n",
    "n = int(input(\"Введите количество столбцов\"))\n",
    "if n < 1 or n > 100:\n",
    "    print(\"Число должно быть от 1 до 100\")\n",
    "    n = int(input(\"Введите количество столбцов\"))\n",
    "A = np.empty((m, n))\n",
    "for i in range(m):\n",
    "    for j in range(n):\n",
    "        A[i, j] = random.randint(1, 100)\n",
    "print(A)\n",
    "print(\" \")\n",
    "B = np.empty(n)\n",
    "for i in range(-(m - 2), 1):\n",
    "    np.resize(B, len(np.diag(A, k = i)))\n",
    "    B = np.diagonal(A, offset = i).copy()\n",
    "    BubbleSort(B)\n",
    "    np.fill_diagonal(A[-i:], B)\n",
    "for i in range(1, n):\n",
    "    np.resize(B, len(np.diag(A, k = i)))\n",
    "    B = np.diagonal(A, offset = i).copy()\n",
    "    BubbleSort(B)\n",
    "    np.fill_diagonal(A[:,i:], B)\n",
    "print(A)"
   ]
  },
  {
   "cell_type": "markdown",
   "metadata": {},
   "source": [
    "# Задача №5"
   ]
  },
  {
   "cell_type": "markdown",
   "metadata": {},
   "source": [
    "Вернуть количество отдельных непустых подстрок текста, которые могут быть записаны как конкатенация некоторой строки с самой собой\n",
    "(т.е. онаможет быть записана, как a + a, где a - некоторая строка)."
   ]
  },
  {
   "cell_type": "code",
   "execution_count": 4,
   "metadata": {},
   "outputs": [
    {
     "name": "stdout",
     "output_type": "stream",
     "text": [
      "3\n"
     ]
    }
   ],
   "source": [
    "def Conc(s):\n",
    "    s_arr = []\n",
    "    for i in range(len(s) - 1):\n",
    "        for j in range(i + 1, len(s)):\n",
    "            if s.startswith(s[i:j], j) and not s[i: j] in s_arr:\n",
    "                s_arr.append(s[i:j])\n",
    "    return len(s_arr)\n",
    "\n",
    "s = \"abcabcabc\"\n",
    "print(Conc(s))"
   ]
  },
  {
   "cell_type": "markdown",
   "metadata": {},
   "source": [
    "# Задача №6"
   ]
  },
  {
   "cell_type": "markdown",
   "metadata": {},
   "source": [
    "На столе стоят 3n стопок монет.\n",
    "Вы и ваши друзья Алиса и Боб забираете стопки монет последующему алгоритму:\n",
    "\n",
    "Вы выбираете 3 стопки монет из оставшихся на столе.\n",
    "Алиса забирает себе стопку с максимальным количеством монет.\n",
    "Вы забираете одну из двух оставшихся стопок.\n",
    "Боб забирает последнюю стопку.\n",
    "Если еще остались стопки, то действия повторяются с первого шага.\n",
    "Дан массив целых положительных чисел piles. Напишите функцию, возвращающую максимальное число монет, которое вы можете получить"
   ]
  },
  {
   "cell_type": "code",
   "execution_count": 3,
   "metadata": {},
   "outputs": [
    {
     "name": "stdout",
     "output_type": "stream",
     "text": [
      "9\n"
     ]
    }
   ],
   "source": [
    "def game(piles):\n",
    "    piles.sort()\n",
    "    result = 0\n",
    "    begin = len(piles) // 3\n",
    "    for i in range(begin, len(piles), 2):\n",
    "        result = result + piles[i]\n",
    "    return result\n",
    "\n",
    "piles = [2,4,1,2,7,8]\n",
    "print(game(piles))"
   ]
  },
  {
   "cell_type": "markdown",
   "metadata": {},
   "source": [
    "# Задача №7"
   ]
  },
  {
   "cell_type": "markdown",
   "metadata": {},
   "source": [
    "Даны две строки: s1 и s2 с одинаковым размером, проверьте,\n",
    "может ли некоторая перестановка строки s1 “победить” некоторую перестановку строки s2 или наоборот.\n",
    "\n",
    "Строка x может “победить” строку y (обе имеют размер n), если x[i]> = y [i] (в алфавитном порядке) для всех i от 0 до n-1."
   ]
  },
  {
   "cell_type": "code",
   "execution_count": 5,
   "metadata": {},
   "outputs": [
    {
     "name": "stdout",
     "output_type": "stream",
     "text": [
      "True\n",
      "False\n"
     ]
    }
   ],
   "source": [
    "def stringWin(s1, s2):\n",
    "    str1 = sorted(s1)\n",
    "    str2 = sorted(s2)\n",
    "    f1 = True\n",
    "    f2 = True\n",
    "    \n",
    "    for i in range(len(str1)):\n",
    "        if str1[i] < str2[i]:\n",
    "            f1 = False\n",
    "        if str1[i] > str2[i]:\n",
    "            f2 = False\n",
    "    return(f1 or f2)\n",
    "    \n",
    "a1 = 'abc'\n",
    "a2 = 'xya'\n",
    "print(stringWin(a1, a2))\n",
    "\n",
    "a1 = 'abe' \n",
    "a2 = 'acd'\n",
    "print(stringWin(a1, a2))"
   ]
  },
  {
   "cell_type": "markdown",
   "metadata": {},
   "source": [
    "# Задача №8 "
   ]
  },
  {
   "cell_type": "markdown",
   "metadata": {},
   "source": [
    "Дан массив отрезков intervals, в котором intervals[i] = [starti, endi], некоторые отрезки могут пересекаться.\n",
    "Напишите функцию, которая объединяет все пересекающиеся отрезки в один и возвращает новый массив непересекающихся отрезко"
   ]
  },
  {
   "cell_type": "code",
   "execution_count": 6,
   "metadata": {},
   "outputs": [
    {
     "name": "stdout",
     "output_type": "stream",
     "text": [
      "[[1, 7], [2, 7], [8, 10], [15, 18]]  -->  [[1, 7], [8, 10], [15, 18]]\n",
      "[[1, 5], [4, 5]]  -->  [[1, 5]]\n"
     ]
    }
   ],
   "source": [
    "def merge(intervals):\n",
    "    intervals.sort(key=lambda x: x[0])\n",
    "    \n",
    "    result = []\n",
    "    for interval in intervals:\n",
    "        if not result or result[-1][1] < interval[0]:\n",
    "            result.append(interval)\n",
    "        else:\n",
    "            result[-1][1] = max(result[-1][1], interval[1])\n",
    "    return(result)\n",
    "    \n",
    "intervals = [[1, 3], [2, 7], [8, 10], [15, 18]]\n",
    "print(intervals, ' --> ', merge(intervals))\n",
    "intervals = [[1,4],[4,5]]\n",
    "print(intervals, ' --> ', merge(intervals))"
   ]
  },
  {
   "cell_type": "markdown",
   "metadata": {},
   "source": [
    "# Задача №9"
   ]
  },
  {
   "cell_type": "markdown",
   "metadata": {},
   "source": [
    "Некоторые сферические шарики распределены по двухмерному пространству. Для каждого шарика даны x координаты начала и конца его горизонтального диаметра. Так как пространство двумерно, то y координаты не имеют значения в данной задаче. Координата x_start всегда меньше x_end.\n",
    "\n",
    "Стрелу можно выстрелить строго вертикально (вдоль y оси) из разных точек xоси. Шарик с координатами x_start и x_end уничтожается стрелой, если она была выпущена из такой позиции x, что xstart ⩽ x ⩽ xend.\n",
    "Когда стрела выпущена, она летит в пространстве бесконечное время (уничтожая все шарики на пути).\n",
    "\n",
    "Дан массив points, где points[i] = [xstart, xend]. Напишите функцию, возвращающую минимальное количество стрел, которые нужно выпустить, чтобы уничтожить все шарики."
   ]
  },
  {
   "cell_type": "code",
   "execution_count": 7,
   "metadata": {},
   "outputs": [
    {
     "name": "stdout",
     "output_type": "stream",
     "text": [
      "[[10, 16], [2, 8], [1, 6], [7, 12]] --> 2\n",
      "[[1, 2], [3, 4], [5, 6], [7, 8]] --> 4\n",
      "[[1, 2], [2, 3], [3, 4], [4, 5]] --> 2\n",
      "[[1, 2]] --> 1\n",
      "[[2, 3], [2, 3]] --> 1\n"
     ]
    }
   ],
   "source": [
    "def balloons(arr):\n",
    "    arr = sorted(arr)\n",
    "    result = 1\n",
    "    prev = arr[0]\n",
    "    \n",
    "    for balloon in arr:\n",
    "        if prev[1] < balloon[0]:\n",
    "            prev = balloon\n",
    "            result += 1\n",
    "        else:\n",
    "            prev[1] = min(balloon[1], prev[1])\n",
    "    return(result)\n",
    "\n",
    "points = [[10,16],[2,8],[1,6],[7,12]]\n",
    "print(points, '-->', balloons(points))\n",
    "points = [[1,2],[3,4],[5,6],[7,8]]\n",
    "print(points, '-->', balloons(points))\n",
    "points = [[1,2],[2,3],[3,4],[4,5]]\n",
    "print(points, '-->', balloons(points))\n",
    "points = [[1,2]]\n",
    "print(points, '-->', balloons(points))\n",
    "points = [[2,3],[2,3]]\n",
    "print(points, '-->', balloons(points))"
   ]
  },
  {
   "cell_type": "code",
   "execution_count": null,
   "metadata": {},
   "outputs": [],
   "source": []
  }
 ],
 "metadata": {
  "kernelspec": {
   "display_name": "Python 3",
   "language": "python",
   "name": "python3"
  }
 },
 "nbformat": 4,
 "nbformat_minor": 4
}
